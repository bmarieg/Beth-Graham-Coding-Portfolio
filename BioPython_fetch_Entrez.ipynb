{
 "cells": [
  {
   "cell_type": "markdown",
   "id": "505690d9-42f6-482e-b50a-c0ed76c78a0f",
   "metadata": {},
   "source": [
    "# Introduction to Biopython:\n",
    "## Searching for and Retrieving Sequence Records from Entrez\n",
    "\n",
    "The following code may be used to search the Entrez databases and retrieve individual sequences. Normally, if that's all I wanted to do, I would just search the [NCBI website](\"https://www.ncbi.nlm.nih.gov/\"), but for more advanced applications, using Python to retrieve records may be more efficient.\n",
    "\n",
    "The code below is based heavily on the [Biopython Tutorial](\"http://biopython.org/DIST/docs/tutorial/Tutorial.html\"). Please see this document for further information.\n",
    "\n",
    "### Import packages\n",
    "\n",
    "I will be using the SeqIO and Entrez packages from Biopython. When accessing Entrez, you need to provide an email address."
   ]
  },
  {
   "cell_type": "code",
   "execution_count": 14,
   "id": "b03c9ea8-fb36-43d9-a09b-cf734dcf75a0",
   "metadata": {
    "collapsed": true,
    "jupyter": {
     "outputs_hidden": true
    }
   },
   "outputs": [],
   "source": [
    "from Bio import SeqIO\n",
    "from Bio import Entrez\n",
    "Entrez.email = \"bmarieg@gmail.com\""
   ]
  },
  {
   "cell_type": "markdown",
   "id": "47655d94-a3a0-4126-9dcd-1d5ff3fd4125",
   "metadata": {},
   "source": [
    "### Get info on all databases\n",
    "\n",
    "You can use Entrez.einfo() to get information on all of the databases in Entrez.\n",
    "\n",
    "Note: In my variable names, HTTPRO stands for \"HTTP response object\"."
   ]
  },
  {
   "cell_type": "code",
   "execution_count": 18,
   "id": "9a59a3e0-7b3b-40ea-b006-12e5fc24724e",
   "metadata": {
    "collapsed": true,
    "jupyter": {
     "outputs_hidden": true
    }
   },
   "outputs": [
    {
     "name": "stdout",
     "output_type": "stream",
     "text": [
      "dict_keys(['DbList'])\n"
     ]
    }
   ],
   "source": [
    "# Get a list of all the databases in Entrez\n",
    "\n",
    "Entrez_info_HTTPRO = Entrez.einfo()\n",
    "Entrez_info = Entrez.read(Entrez_info_HTTPRO)\n",
    "Entrez_info_HTTPRO.close()\n",
    "print(Entrez_info.keys())"
   ]
  },
  {
   "cell_type": "markdown",
   "id": "bde076ab-c77f-46ac-8fc9-be506384cc13",
   "metadata": {},
   "source": [
    "As you can see, the variable Entrez_info is a dictionary with a single key: DbList.\n",
    "\n",
    "The value associated with this key is a list of the Entrez databases."
   ]
  },
  {
   "cell_type": "code",
   "execution_count": 19,
   "id": "88d4d429-2336-46cc-a380-7ff97d5c51d4",
   "metadata": {
    "collapsed": true,
    "jupyter": {
     "outputs_hidden": true
    }
   },
   "outputs": [
    {
     "name": "stdout",
     "output_type": "stream",
     "text": [
      "['pubmed', 'protein', 'nuccore', 'ipg', 'nucleotide', 'structure', 'genome', 'annotinfo', 'assembly', 'bioproject', 'biosample', 'blastdbinfo', 'books', 'cdd', 'clinvar', 'gap', 'gapplus', 'grasp', 'dbvar', 'gene', 'gds', 'geoprofiles', 'homologene', 'medgen', 'mesh', 'nlmcatalog', 'omim', 'orgtrack', 'pmc', 'popset', 'proteinclusters', 'pcassay', 'protfam', 'pccompound', 'pcsubstance', 'seqannot', 'snp', 'sra', 'taxonomy', 'biocollections', 'gtr']\n"
     ]
    }
   ],
   "source": [
    "print(Entrez_info[\"DbList\"])"
   ]
  },
  {
   "cell_type": "markdown",
   "id": "a5614f7e-acc4-442e-8ba2-ecabe9a92b15",
   "metadata": {},
   "source": [
    "### Get info on a specific database\n",
    "\n",
    "You can find out information on any of the databases above by using Entrez.info() and specifying the database from the list above:"
   ]
  },
  {
   "cell_type": "code",
   "execution_count": 21,
   "id": "bb7e4bfa-6781-4a7c-9391-0f212c5481c6",
   "metadata": {
    "collapsed": true,
    "jupyter": {
     "outputs_hidden": true
    }
   },
   "outputs": [
    {
     "name": "stdout",
     "output_type": "stream",
     "text": [
      "dict_keys(['DbInfo'])\n"
     ]
    }
   ],
   "source": [
    "# Get information on a specific database\n",
    "\n",
    "protdb_info_HTTPRO = Entrez.einfo(db=\"protein\")\n",
    "protdb_info = Entrez.read(protdb_info_HTTPRO)\n",
    "protdb_info_HTTPRO.close()\n",
    "print(protdb_info.keys())"
   ]
  },
  {
   "cell_type": "markdown",
   "id": "ffb7084f-3450-4939-9dfe-52a8ac3b2d0b",
   "metadata": {},
   "source": [
    "I chose to access the protein database. As you can see, the variable protdb_info is a dictionary with a single key: \"DbInfo\". The value associated with this key is another dictionary with keys and values that describe the protein database."
   ]
  },
  {
   "cell_type": "code",
   "execution_count": 22,
   "id": "2b84769b-4966-44fd-adfb-28c98e2d7b89",
   "metadata": {
    "collapsed": true,
    "jupyter": {
     "outputs_hidden": true
    }
   },
   "outputs": [
    {
     "name": "stdout",
     "output_type": "stream",
     "text": [
      "dict_keys(['DbName', 'MenuName', 'Description', 'DbBuild', 'Count', 'LastUpdate', 'FieldList', 'LinkList'])\n"
     ]
    }
   ],
   "source": [
    "print(protdb_info[\"DbInfo\"].keys())"
   ]
  },
  {
   "cell_type": "markdown",
   "id": "92f03fcb-8485-4114-87ad-98aed3ef5005",
   "metadata": {},
   "source": [
    "You can access the values associated with any of these keys:"
   ]
  },
  {
   "cell_type": "code",
   "execution_count": 23,
   "id": "e4a1e7f6-429a-4b94-ac6c-807c9d3e290f",
   "metadata": {
    "collapsed": true,
    "jupyter": {
     "outputs_hidden": true
    }
   },
   "outputs": [
    {
     "name": "stdout",
     "output_type": "stream",
     "text": [
      "2022/10/08 01:28\n"
     ]
    }
   ],
   "source": [
    "print(protdb_info[\"DbInfo\"][\"LastUpdate\"])"
   ]
  },
  {
   "cell_type": "markdown",
   "id": "1305e2c1-9cd0-4528-88b7-180536e767e6",
   "metadata": {},
   "source": [
    "The FieldList key is associated with a great big list full of dictionaries; each dictionary describes a search field. Instead of printing the list, which is overwhelmingly large and hard to read, you can print a subset of the keys in each dictionary:"
   ]
  },
  {
   "cell_type": "code",
   "execution_count": 24,
   "id": "1814a54f-044a-469b-8df1-5ee0bea1c752",
   "metadata": {
    "collapsed": true,
    "jupyter": {
     "outputs_hidden": true
    }
   },
   "outputs": [
    {
     "name": "stdout",
     "output_type": "stream",
     "text": [
      "ALL, All Fields, All terms from all searchable fields\n",
      "UID, UID, Unique number assigned to each sequence\n",
      "FILT, Filter, Limits the records\n",
      "WORD, Text Word, Free text associated with record\n",
      "TITL, Title, Words in definition line\n",
      "KYWD, Keyword, Nonstandardized terms provided by submitter\n",
      "AUTH, Author, Author(s) of publication\n",
      "JOUR, Journal, Journal abbreviation of publication\n",
      "VOL, Volume, Volume number of publication\n",
      "ISS, Issue, Issue number of publication\n",
      "PAGE, Page Number, Page number(s) of publication\n",
      "ORGN, Organism, Scientific and common names of organism, and all higher levels of taxonomy\n",
      "ACCN, Accession, Accession number of sequence\n",
      "PACC, Primary Accession, Does not include retired secondary accessions\n",
      "GENE, Gene Name, Name of gene associated with sequence\n",
      "PROT, Protein Name, Name of protein associated with sequence\n",
      "ECNO, EC/RN Number, EC number for enzyme or CAS registry number\n",
      "PDAT, Publication Date, Date sequence added to GenBank\n",
      "MDAT, Modification Date, Date of last update\n",
      "SUBS, Substance Name, CAS chemical name or MEDLINE Substance Name\n",
      "PROP, Properties, Classification by source qualifiers and molecule type\n",
      "SQID, SeqID String, String identifier for sequence\n",
      "GPRJ, BioProject, BioProject\n",
      "SLEN, Sequence Length, Length of sequence\n",
      "MLWT, Molecular Weight, Molecular Weight\n",
      "FKEY, Feature key, Feature annotated on sequence\n",
      "PORG, Primary Organism, Scientific and common names of primary organism, and all higher levels of taxonomy\n",
      "ASSM, Assembly, Assembly\n",
      "DIV, Division, Division\n",
      "STRN, Strain, Strain\n",
      "ISOL, Isolate, Isolate\n",
      "CULT, Cultivar, Cultivar\n",
      "BRD, Breed, Breed\n"
     ]
    }
   ],
   "source": [
    "for field in protdb_info[\"DbInfo\"][\"FieldList\"]:\n",
    "    print(\"%(Name)s, %(FullName)s, %(Description)s\" % field)"
   ]
  },
  {
   "cell_type": "markdown",
   "id": "3f20b160-04dc-4f5b-8d4c-0e7d45cf0716",
   "metadata": {},
   "source": [
    "### Search a specific Entrez database\n",
    "\n",
    "I am going to search the protein database for human protein kinase R (PKR), which has the gene symbol EIFKAK2. (Protein kinase R is involved in the cell's response to viral infection, among other functions.) You can use the name of the search fields provided above to limit your search. You can also limit the number of results that are returned by assigning a value to retmax.\n",
    "\n",
    "If you print the whole search result, you get a long-ish dictionary:"
   ]
  },
  {
   "cell_type": "code",
   "execution_count": 29,
   "id": "fe809a65-9ed8-487f-a2fc-a8208a90aef7",
   "metadata": {
    "collapsed": true,
    "jupyter": {
     "outputs_hidden": true
    }
   },
   "outputs": [
    {
     "name": "stdout",
     "output_type": "stream",
     "text": [
      "{'Count': '18', 'RetMax': '18', 'RetStart': '0', 'IdList': ['208431827', '125527', '208431829', '4506103', '2217329612', '2217329610', '767914900', '119620814', '119620813', '119620812', '119620811', '219520292', '116283356', '75517635', '62739920', '34784744', '33871554', '27371006'], 'TranslationSet': [{'From': 'human[Orgn]', 'To': '\"Homo sapiens\"[Organism]'}], 'TranslationStack': [{'Term': '\"Homo sapiens\"[Organism]', 'Field': 'Organism', 'Count': '1771931', 'Explode': 'Y'}, {'Term': 'EIF2AK2[Gene]', 'Field': 'Gene', 'Count': '1118', 'Explode': 'N'}, 'AND'], 'QueryTranslation': '\"Homo sapiens\"[Organism] AND EIF2AK2[Gene]'}\n"
     ]
    }
   ],
   "source": [
    "# Search a database\n",
    "# Note: PKR = EIFKAK2\n",
    "\n",
    "PKR_search_HTTPRO = Entrez.esearch(db=\"protein\", term=\"human[Orgn] EIF2AK2[Gene]\", retmax = \"\")\n",
    "PKR_search = Entrez.read(PKR_search_HTTPRO)\n",
    "PKR_search_HTTPRO.close()\n",
    "print(PKR_search)"
   ]
  },
  {
   "cell_type": "markdown",
   "id": "32405a26-a3cb-4599-9c75-7642036ccc19",
   "metadata": {},
   "source": [
    "Alternately, you can print a list of the search keys ..."
   ]
  },
  {
   "cell_type": "code",
   "execution_count": 31,
   "id": "fac675ae-7501-4fde-9a9b-c59f3156b35d",
   "metadata": {
    "collapsed": true,
    "jupyter": {
     "outputs_hidden": true
    }
   },
   "outputs": [
    {
     "name": "stdout",
     "output_type": "stream",
     "text": [
      "dict_keys(['Count', 'RetMax', 'RetStart', 'IdList', 'TranslationSet', 'TranslationStack', 'QueryTranslation'])\n"
     ]
    }
   ],
   "source": [
    "print(PKR_search.keys())"
   ]
  },
  {
   "cell_type": "markdown",
   "id": "668575c9-c07f-4f6f-a007-bb54856e8370",
   "metadata": {},
   "source": [
    "... and then access the results by key."
   ]
  },
  {
   "cell_type": "code",
   "execution_count": 33,
   "id": "42ab57ed-e9f6-4aa9-922e-63865202e27e",
   "metadata": {
    "collapsed": true,
    "jupyter": {
     "outputs_hidden": true
    }
   },
   "outputs": [
    {
     "name": "stdout",
     "output_type": "stream",
     "text": [
      "Count: 18\n",
      "IdList: ['208431827', '125527', '208431829', '4506103', '2217329612', '2217329610', '767914900', '119620814', '119620813', '119620812', '119620811', '219520292', '116283356', '75517635', '62739920', '34784744', '33871554', '27371006']\n"
     ]
    }
   ],
   "source": [
    "print(\"Count: %s\" %PKR_search[\"Count\"])\n",
    "print(\"IdList: %s\" %PKR_search[\"IdList\"])"
   ]
  },
  {
   "cell_type": "markdown",
   "id": "b03dd7b4-cbbd-43ca-bec7-9ed237d7a8ef",
   "metadata": {},
   "source": [
    "### Retrieve information on search results\n",
    "\n",
    "I need more information before I can determine whether the IDs above match the protein I am looking for. You can retrieve a summary of each individual search result:"
   ]
  },
  {
   "cell_type": "code",
   "execution_count": 34,
   "id": "406abc44-f7bd-4410-86a9-106f56284a3e",
   "metadata": {
    "collapsed": true,
    "jupyter": {
     "outputs_hidden": true
    }
   },
   "outputs": [
    {
     "name": "stdout",
     "output_type": "stream",
     "text": [
      "interferon-induced, double-stranded RNA-activated protein kinase isoform a [Homo sapiens]\n",
      "live\n"
     ]
    }
   ],
   "source": [
    "# Retrieve a summary of a search result\n",
    "\n",
    "PKR_prot_summ_HTTPRO = Entrez.esummary(db=\"protein\", id=\"208431827\")\n",
    "PKR_prot_summ = Entrez.read(PKR_prot_summ_HTTPRO)\n",
    "PKR_prot_summ_HTTPRO.close()\n",
    "print(PKR_prot_summ[0][\"Title\"])\n",
    "print(PKR_prot_summ[0][\"Status\"])"
   ]
  },
  {
   "cell_type": "markdown",
   "id": "a6e81b68-0f56-4fd1-9d1d-0ce25b41737d",
   "metadata": {},
   "source": [
    "Alternately, you can retrieve information on every search result. This may help you select the canonical isoform of a particular protein, for example."
   ]
  },
  {
   "cell_type": "code",
   "execution_count": 36,
   "id": "44127d51-3f96-49ce-8195-bb915ea83298",
   "metadata": {
    "collapsed": true,
    "jupyter": {
     "outputs_hidden": true
    }
   },
   "outputs": [
    {
     "name": "stdout",
     "output_type": "stream",
     "text": [
      "ID: 208431827\n",
      "Caption: NP_001129123\n",
      "Summary: interferon-induced, double-stranded RNA-activated protein kinase isoform a [Homo sapiens]\n",
      "Length: 551\n",
      "Status: live \n",
      "\n",
      "ID: 125527\n",
      "Caption: P19525\n",
      "Summary: RecName: Full=Interferon-induced, double-stranded RNA-activated protein kinase; AltName: Full=Eukaryotic translation initiation factor 2-alpha kinase 2; Short=eIF-2A protein kinase 2; AltName: Full=Interferon-inducible RNA-dependent protein kinase; AltName: Full=P1/eIF-2A protein kinase; AltName: Full=Protein kinase RNA-activated; Short=PKR; Short=Protein kinase R; AltName: Full=Tyrosine-protein kinase EIF2AK2; AltName: Full=p68 kinase\n",
      "Length: 551\n",
      "Status: live \n",
      "\n",
      "ID: 208431829\n",
      "Caption: NP_001129124\n",
      "Summary: interferon-induced, double-stranded RNA-activated protein kinase isoform b [Homo sapiens]\n",
      "Length: 510\n",
      "Status: live \n",
      "\n",
      "ID: 4506103\n",
      "Caption: NP_002750\n",
      "Summary: interferon-induced, double-stranded RNA-activated protein kinase isoform a [Homo sapiens]\n",
      "Length: 551\n",
      "Status: live \n",
      "\n",
      "ID: 2217329612\n",
      "Caption: XP_047301072\n",
      "Summary: interferon-induced, double-stranded RNA-activated protein kinase isoform X2 [Homo sapiens]\n",
      "Length: 508\n",
      "Status: live \n",
      "\n",
      "ID: 2217329610\n",
      "Caption: XP_047301071\n",
      "Summary: interferon-induced, double-stranded RNA-activated protein kinase isoform X2 [Homo sapiens]\n",
      "Length: 508\n",
      "Status: live \n",
      "\n",
      "ID: 767914900\n",
      "Caption: XP_011531289\n",
      "Summary: interferon-induced, double-stranded RNA-activated protein kinase isoform X1 [Homo sapiens]\n",
      "Length: 551\n",
      "Status: live \n",
      "\n",
      "ID: 119620814\n",
      "Caption: EAX00409\n",
      "Summary: eukaryotic translation initiation factor 2-alpha kinase 2, isoform CRA_a [Homo sapiens]\n",
      "Length: 551\n",
      "Status: live \n",
      "\n",
      "ID: 119620813\n",
      "Caption: EAX00408\n",
      "Summary: eukaryotic translation initiation factor 2-alpha kinase 2, isoform CRA_a [Homo sapiens]\n",
      "Length: 551\n",
      "Status: live \n",
      "\n",
      "ID: 119620812\n",
      "Caption: EAX00407\n",
      "Summary: eukaryotic translation initiation factor 2-alpha kinase 2, isoform CRA_a [Homo sapiens]\n",
      "Length: 551\n",
      "Status: live \n",
      "\n",
      "ID: 119620811\n",
      "Caption: EAX00406\n",
      "Summary: eukaryotic translation initiation factor 2-alpha kinase 2, isoform CRA_a [Homo sapiens]\n",
      "Length: 551\n",
      "Status: live \n",
      "\n",
      "ID: 219520292\n",
      "Caption: AAI43231\n",
      "Summary: EIF2AK2 protein [Homo sapiens]\n",
      "Length: 546\n",
      "Status: live \n",
      "\n",
      "ID: 116283356\n",
      "Caption: AAH22314\n",
      "Summary: EIF2AK2 protein, partial [Homo sapiens]\n",
      "Length: 363\n",
      "Status: live \n",
      "\n",
      "ID: 75517635\n",
      "Caption: AAI01476\n",
      "Summary: Eukaryotic translation initiation factor 2-alpha kinase 2 [Homo sapiens]\n",
      "Length: 551\n",
      "Status: live \n",
      "\n",
      "ID: 62739920\n",
      "Caption: AAH93676\n",
      "Summary: Eukaryotic translation initiation factor 2-alpha kinase 2 [Homo sapiens]\n",
      "Length: 551\n",
      "Status: live \n",
      "\n",
      "ID: 34784744\n",
      "Caption: AAH57805\n",
      "Summary: EIF2AK2 protein, partial [Homo sapiens]\n",
      "Length: 513\n",
      "Status: live \n",
      "\n",
      "ID: 33871554\n",
      "Caption: AAH07769\n",
      "Summary: EIF2AK2 protein, partial [Homo sapiens]\n",
      "Length: 384\n",
      "Status: live \n",
      "\n",
      "ID: 27371006\n",
      "Caption: AAH40851\n",
      "Summary: EIF2AK2 protein, partial [Homo sapiens]\n",
      "Length: 513\n",
      "Status: live \n",
      "\n"
     ]
    }
   ],
   "source": [
    "# Retrieve a summary of all of the search results\n",
    "\n",
    "for ID in PKR_search[\"IdList\"]:\n",
    "    thissummary_HTTPRO = Entrez.esummary(db=\"protein\", id=ID)    \n",
    "    thissummary = Entrez.read(thissummary_HTTPRO)\n",
    "    thissummary_HTTPRO.close()    \n",
    "    print(\"ID: %s\" %ID)\n",
    "    print(\"Caption: %s\" %thissummary[0][\"Caption\"])\n",
    "    print(\"Summary: %s\" %thissummary[0][\"Title\"])\n",
    "    print(\"Length: %s\" %int(thissummary[0][\"Length\"]))\n",
    "    print(\"Status: %s \\n\" %thissummary[0][\"Status\"])"
   ]
  },
  {
   "cell_type": "markdown",
   "id": "f4fac5cb-8b93-450b-a73c-ff5a2534c67e",
   "metadata": {},
   "source": [
    "### Retrieve a protein sequence\n",
    "\n",
    "Once you have identified which protein sequence you need, you can access it in fasta format:"
   ]
  },
  {
   "cell_type": "code",
   "execution_count": 38,
   "id": "eb5bf0b0-8abb-4f58-99f6-8410054fbe2a",
   "metadata": {
    "collapsed": true,
    "jupyter": {
     "outputs_hidden": true
    }
   },
   "outputs": [
    {
     "name": "stdout",
     "output_type": "stream",
     "text": [
      "ID: NP_001129123.1\n",
      "Name: NP_001129123.1\n",
      "Description: NP_001129123.1 interferon-induced, double-stranded RNA-activated protein kinase isoform a [Homo sapiens]\n",
      "Number of features: 0\n",
      "Seq('MAGDLSAGFFMEELNTYRQKQGVVLKYQELPNSGPPHDRRFTFQVIIDGREFPE...HTC')\n"
     ]
    }
   ],
   "source": [
    "# Fetch a fasta or genbank record from Entrez and turn it into a SeqRecord\n",
    "# SeqIO.read() is for files containing a single sequence\n",
    "\n",
    "PKR_prot_fa_HTTPRO = Entrez.efetch(db=\"protein\", id=\"208431827\", rettype=\"fasta\", retmode=\"text\")\n",
    "PKR_prot_fa = SeqIO.read(PKR_prot_fa_HTTPRO, \"fasta\")\n",
    "PKR_prot_fa_HTTPRO.close()\n",
    "print(PKR_prot_fa)"
   ]
  },
  {
   "cell_type": "markdown",
   "id": "073108c4-cd2c-452e-97bd-65e483c4fffb",
   "metadata": {},
   "source": [
    "Or in genbank format:"
   ]
  },
  {
   "cell_type": "code",
   "execution_count": 39,
   "id": "1b45c731-5a99-4c7e-9b51-12b8de9f0e1a",
   "metadata": {
    "collapsed": true,
    "jupyter": {
     "outputs_hidden": true
    }
   },
   "outputs": [
    {
     "name": "stdout",
     "output_type": "stream",
     "text": [
      "ID: NP_001129123.1\n",
      "Name: NP_001129123\n",
      "Description: interferon-induced, double-stranded RNA-activated protein kinase isoform a [Homo sapiens]\n",
      "Number of features: 32\n",
      "/topology=linear\n",
      "/data_file_division=PRI\n",
      "/date=16-SEP-2022\n",
      "/accessions=['NP_001129123']\n",
      "/sequence_version=1\n",
      "/db_source=REFSEQ: accession NM_001135651.3\n",
      "/keywords=['RefSeq', 'MANE Select']\n",
      "/source=Homo sapiens (human)\n",
      "/organism=Homo sapiens\n",
      "/taxonomy=['Eukaryota', 'Metazoa', 'Chordata', 'Craniata', 'Vertebrata', 'Euteleostomi', 'Mammalia', 'Eutheria', 'Euarchontoglires', 'Primates', 'Haplorrhini', 'Catarrhini', 'Hominidae', 'Homo']\n",
      "/references=[Reference(title='YTHDF3 Facilitates eIF2AK2 and eIF3A Recruitment on mRNAs to Regulate Translational Processes in Oxaliplatin-Resistant Colorectal Cancer', ...), Reference(title='Protein kinase R is an innate immune sensor of proteotoxic stress via accumulation of cytoplasmic IL-24', ...), Reference(title='Protein kinase RNA-activated controls mitotic progression and determines paclitaxel chemosensitivity through B-cell lymphoma 2 in ovarian cancer', ...), Reference(title='SARS-CoV-2 nucleocapsid protein interacts with immunoregulators and stress granules and phase separates to form liquid droplets', ...), Reference(title='Mitophagy antagonism by ZIKV reveals Ajuba as a regulator of PINK1 signaling, PKR-dependent inflammation, and viral invasion of tissues', ...), Reference(title='Identification of double-stranded RNA-binding domains in the interferon-induced double-stranded RNA-activated p68 kinase', ...), Reference(title='Mechanism of interferon action: identification of a RNA binding domain within the N-terminal region of the human RNA-dependent P1/eIF-2 alpha protein kinase', ...), Reference(title='Mechanism of interferon action: cDNA structure, expression, and regulation of the interferon-induced, RNA-dependent P1/eIF-2 alpha protein kinase from human cells', ...), Reference(title='A synthetic peptide substrate for initiation factor-2 kinases', ...), Reference(title='Molecular cloning and characterization of the human double-stranded RNA-activated protein kinase induced by interferon', ...)]\n",
      "/comment=REVIEWED REFSEQ: This record has been curated by NCBI staff. The\n",
      "reference sequence was derived from BC040851.1, AC007899.3 and\n",
      "BU687340.1.\n",
      "This sequence is a reference standard in the RefSeqGene project.\n",
      "Summary: The protein encoded by this gene is a serine/threonine\n",
      "protein kinase that is activated by autophosphorylation after\n",
      "binding to dsRNA. The activated form of the encoded protein can\n",
      "phosphorylate translation initiation factor EIF2S1, which in turn\n",
      "inhibits protein synthesis. This protein is also activated by\n",
      "manganese ions and heparin. The encoded protein plays an important\n",
      "role in the innate immune response against multiple DNA and RNA\n",
      "viruses. [provided by RefSeq, Jul 2021].\n",
      "Transcript Variant: This variant (2) uses a different splice site\n",
      "in the 5' UTR, compared to variant 1. Variants 1 and 2 both encode\n",
      "the same protein (isoform a).\n",
      "Sequence Note: This RefSeq record was created from transcript and\n",
      "genomic sequence data to make the sequence consistent with the\n",
      "reference genome assembly. The genomic coordinates used for the\n",
      "transcript record were based on transcript alignments.\n",
      "Publication Note:  This RefSeq record includes a subset of the\n",
      "publications that are available for this gene. Please see the Gene\n",
      "record to access additional publications.\n",
      "/structured_comment=OrderedDict([('Evidence-Data', OrderedDict([('Transcript exon combination', 'SRR14038195.433394.1, SRR11853564.15221.1 [ECO:0000332]'), ('RNAseq introns', 'mixed sample support SAMEA1965299, SAMEA1966682 [ECO:0006172]')])), ('RefSeq-Attributes', OrderedDict([('coronavirus related', 'involved in immune response or antiviral activity'), ('MANE Ensembl match', 'ENST00000233057.9/ ENSP00000233057.4'), ('RefSeq Select criteria', 'based on conservation, expression, longest protein')]))])\n",
      "/molecule_type=protein\n",
      "Seq('MAGDLSAGFFMEELNTYRQKQGVVLKYQELPNSGPPHDRRFTFQVIIDGREFPE...HTC')\n"
     ]
    }
   ],
   "source": [
    "PKR_prot_gb_HTTPRO = Entrez.efetch(db=\"protein\", id=\"208431827\", rettype=\"gb\", retmode=\"text\")\n",
    "PKR_prot_gb = SeqIO.read(PKR_prot_gb_HTTPRO, \"genbank\")\n",
    "PKR_prot_gb_HTTPRO.close()\n",
    "print(PKR_prot_gb)"
   ]
  },
  {
   "cell_type": "markdown",
   "id": "28222357-cbcd-4063-bb04-54f52fa4245e",
   "metadata": {},
   "source": [
    "The fasta and genbank files for this protein are now stored as SeqRecord objects. If you don't want to see the whole file, you can access elements individually:"
   ]
  },
  {
   "cell_type": "code",
   "execution_count": 41,
   "id": "4727b56f-bb61-40a7-bb6a-fd8d23f0386d",
   "metadata": {
    "collapsed": true,
    "jupyter": {
     "outputs_hidden": true
    },
    "tags": []
   },
   "outputs": [
    {
     "name": "stdout",
     "output_type": "stream",
     "text": [
      "Fasta sequence: MAGDLSAGFFMEELNTYRQKQGVVLKYQELPNSGPPHDRRFTFQVIIDGREFPEGEGRSKKEAKNAAAKLAVEILNKEKKAVSPLLLTTTNSSEGLSMGNYIGLINRIAQKKRLTVNYEQCASGVHGPEGFHYKCKMGQKEYSIGTGSTKQEAKQLAAKLAYLQILSEETSVKSDYLSSGSFATTCESQSNSLVTSTLASESSSEGDFSADTSEINSNSDSLNSSSLLMNGLRNNQRKAKRSLAPRFDLPDMKETKYTVDKRFGMDFKEIELIGSGGFGQVFKAKHRIDGKTYVIKRVKYNNEKAEREVKALAKLDHVNIVHYNGCWDGFDYDPETSDDSLESSDYDPENSKNSSRSKTKCLFIQMEFCDKGTLEQWIEKRRGEKLDKVLALELFEQITKGVDYIHSKKLIHRDLKPSNIFLVDTKQVKIGDFGLVTSLKNDGKRTRSKGTLRYMSPEQISSQDYGKEVDLYALGLILAELLHVCDTAFETSKFFTDLRDGIISDIFDKKEKTLLQKLLSKKPEDRPNTSEILRTLTVWKKSPEKNERHTC \n",
      "\n",
      "Genbank sequence: MAGDLSAGFFMEELNTYRQKQGVVLKYQELPNSGPPHDRRFTFQVIIDGREFPEGEGRSKKEAKNAAAKLAVEILNKEKKAVSPLLLTTTNSSEGLSMGNYIGLINRIAQKKRLTVNYEQCASGVHGPEGFHYKCKMGQKEYSIGTGSTKQEAKQLAAKLAYLQILSEETSVKSDYLSSGSFATTCESQSNSLVTSTLASESSSEGDFSADTSEINSNSDSLNSSSLLMNGLRNNQRKAKRSLAPRFDLPDMKETKYTVDKRFGMDFKEIELIGSGGFGQVFKAKHRIDGKTYVIKRVKYNNEKAEREVKALAKLDHVNIVHYNGCWDGFDYDPETSDDSLESSDYDPENSKNSSRSKTKCLFIQMEFCDKGTLEQWIEKRRGEKLDKVLALELFEQITKGVDYIHSKKLIHRDLKPSNIFLVDTKQVKIGDFGLVTSLKNDGKRTRSKGTLRYMSPEQISSQDYGKEVDLYALGLILAELLHVCDTAFETSKFFTDLRDGIISDIFDKKEKTLLQKLLSKKPEDRPNTSEILRTLTVWKKSPEKNERHTC\n"
     ]
    }
   ],
   "source": [
    "print(\"Fasta sequence: %s \\n\" %PKR_prot_fa.seq)\n",
    "print(\"Genbank sequence: %s\" %PKR_prot_gb.seq)"
   ]
  },
  {
   "cell_type": "markdown",
   "id": "e87402bc-958d-4053-872d-f5550b737bca",
   "metadata": {},
   "source": [
    "As you might expect, both files contain the same sequence:"
   ]
  },
  {
   "cell_type": "code",
   "execution_count": 44,
   "id": "967bd78d-c9f9-41b7-8163-f86f73084490",
   "metadata": {
    "collapsed": true,
    "jupyter": {
     "outputs_hidden": true
    }
   },
   "outputs": [
    {
     "data": {
      "text/plain": [
       "True"
      ]
     },
     "execution_count": 44,
     "metadata": {},
     "output_type": "execute_result"
    }
   ],
   "source": [
    "PKR_prot_fa.seq == PKR_prot_gb.seq"
   ]
  },
  {
   "cell_type": "markdown",
   "id": "83e62203-5d2e-4da7-bb07-3c23273b101d",
   "metadata": {},
   "source": [
    "### All the code at once"
   ]
  },
  {
   "cell_type": "raw",
   "id": "48962720-d9be-4783-a7bf-62fe1253bd37",
   "metadata": {},
   "source": [
    "#!/usr/bin/env python3\n",
    "# -*- coding: utf-8 -*-\n",
    "\"\"\"\n",
    "Created on Wed Oct  5 23:23:37 2022\n",
    "\n",
    "@author: Beth\n",
    "\"\"\"\n",
    "\n",
    "from Bio import SeqIO\n",
    "from Bio import Entrez\n",
    "Entrez.email = \"bmarieg@gmail.com\"\n",
    "\n",
    "# Get a list of all the databases in Entrez\n",
    "\n",
    "Entrez_info_HTTPRO = Entrez.einfo()\n",
    "type(Entrez_info_HTTPRO)\n",
    "Entrez_info = Entrez.read(Entrez_info_HTTPRO)\n",
    "Entrez_info_HTTPRO.close()\n",
    "print(Entrez_info.keys())\n",
    "print(Entrez_info[\"DbList\"])\n",
    "\n",
    "\n",
    "# Get information on a specific database\n",
    "\n",
    "protdb_info_HTTPRO = Entrez.einfo(db=\"protein\")\n",
    "protdb_info = Entrez.read(protdb_info_HTTPRO)\n",
    "protdb_info_HTTPRO.close()\n",
    "print(protdb_info.keys())\n",
    "print(protdb_info[\"DbInfo\"].keys())\n",
    "print(protdb_info[\"DbInfo\"][\"LastUpdate\"])\n",
    "print(protdb_info[\"DbInfo\"][\"FieldList\"])\n",
    "for field in protdb_info[\"DbInfo\"][\"FieldList\"]:\n",
    "    print(\"%(Name)s, %(FullName)s, %(Description)s\" % field)\n",
    "\n",
    "# Search a database\n",
    "# Note: PKR = EIFKAK2\n",
    "\n",
    "PKR_search_HTTPRO = Entrez.esearch(db=\"protein\", term=\"human[Orgn] EIF2AK2[Gene]\", retmax = \"\")\n",
    "PKR_search = Entrez.read(PKR_search_HTTPRO)\n",
    "PKR_search_HTTPRO.close()\n",
    "print(PKR_search.keys())\n",
    "print(\"Count: %s\" %PKR_search[\"Count\"])\n",
    "print(\"IdList: %s\" %PKR_search[\"IdList\"])\n",
    "print(PKR_search)\n",
    "\n",
    "# Retrieve a summary of a search result\n",
    "\n",
    "PKR_prot_summ_HTTPRO = Entrez.esummary(db=\"protein\", id=\"208431827\")\n",
    "PKR_prot_summ = Entrez.read(PKR_prot_summ_HTTPRO)\n",
    "PKR_prot_summ_HTTPRO.close()\n",
    "print(PKR_prot_summ[0][\"Title\"])\n",
    "print(PKR_prot_summ[0][\"Status\"])\n",
    "\n",
    "# Retrieve a summary of all of the search results\n",
    "\n",
    "for ID in PKR_search[\"IdList\"]:\n",
    "    thissummary_HTTPRO = Entrez.esummary(db=\"protein\", id=ID)    \n",
    "    thissummary = Entrez.read(thissummary_HTTPRO)\n",
    "    thissummary_HTTPRO.close()    \n",
    "    print(\"ID: %s\" %ID)\n",
    "    print(\"Caption: %s\" %thissummary[0][\"Caption\"])\n",
    "    print(\"Summary: %s\" %thissummary[0][\"Title\"])\n",
    "    print(\"Length: %s\" %int(thissummary[0][\"Length\"]))\n",
    "    print(\"Status: %s \\n\" %thissummary[0][\"Status\"])\n",
    "\n",
    "\n",
    "# Fetch a fasta or genbank record from Entrez and turn it into a SeqRecord\n",
    "# SeqIO.read() is for files containing a single sequence\n",
    "\n",
    "PKR_prot_fa_HTTPRO = Entrez.efetch(db=\"protein\", id=\"208431827\", rettype=\"fasta\", retmode=\"text\")\n",
    "PKR_prot_fa = SeqIO.read(PKR_prot_fa_HTTPRO, \"fasta\")\n",
    "PKR_prot_fa_HTTPRO.close()\n",
    "print(PKR_prot_fa)\n",
    "print(PKR_prot_fa.seq)\n",
    "\n",
    "PKR_prot_gb_HTTPRO = Entrez.efetch(db=\"protein\", id=\"208431827\", rettype=\"gb\", retmode=\"text\")\n",
    "PKR_prot_gb = SeqIO.read(PKR_prot_gb_HTTPRO, \"genbank\")\n",
    "PKR_prot_gb_HTTPRO.close()\n",
    "print(PKR_prot_gb)\n",
    "print(PKR_prot_gb.seq)\n",
    "\n",
    "PKR_prot_fa.seq == PKR_prot_gb.seq"
   ]
  }
 ],
 "metadata": {
  "kernelspec": {
   "display_name": "Python 3 (ipykernel)",
   "language": "python",
   "name": "python3"
  },
  "language_info": {
   "codemirror_mode": {
    "name": "ipython",
    "version": 3
   },
   "file_extension": ".py",
   "mimetype": "text/x-python",
   "name": "python",
   "nbconvert_exporter": "python",
   "pygments_lexer": "ipython3",
   "version": "3.9.12"
  }
 },
 "nbformat": 4,
 "nbformat_minor": 5
}
